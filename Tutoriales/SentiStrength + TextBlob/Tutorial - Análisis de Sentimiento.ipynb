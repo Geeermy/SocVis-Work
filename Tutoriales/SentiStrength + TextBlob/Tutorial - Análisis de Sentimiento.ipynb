{
 "cells": [
  {
   "cell_type": "markdown",
   "metadata": {},
   "source": [
    "# Tutorial - Análisis de Sentimiento con SentiStrength y TextBlob"
   ]
  },
  {
   "cell_type": "markdown",
   "metadata": {},
   "source": [
    "En este tutorial, aprenderemos el uso básico de las librerías SentiStrength y TextBlob. Para ello, es necesario conocer el manejo básico de **Python**.\n",
    "\n",
    "Antes de partir, es necesario descargar la librerías requeridas. \n",
    "\n",
    "### Instalar SentiStrength\n",
    "Para SentiStrength, es necesario seguir las instrucciones que se encuentran en el siguiente enlace: http://sentistrength.wlv.ac.uk/#Download\n",
    "\n",
    "### Instalar TextBlob\n",
    "Se puede hacer con el comando pip install, como se detalla aquí: http://textblob.readthedocs.io/en/dev/install.html\n",
    "\n",
    "Ahora, partimos por importar las librerías."
   ]
  },
  {
   "cell_type": "code",
   "execution_count": 1,
   "metadata": {
    "collapsed": true
   },
   "outputs": [],
   "source": [
    "# Importamos la librería necesaria para poder usar SentiStrength (programa en Java).\n",
    "import subprocess, shlex\n",
    "# Importamos la librería de TextBlob\n",
    "from textblob import TextBlob"
   ]
  },
  {
   "cell_type": "markdown",
   "metadata": {},
   "source": [
    "## Usando SentiStrength\n",
    "\n",
    "Para SentiStrength, utilizamos la función que provee la misma página para hacer uso del programa en Python."
   ]
  },
  {
   "cell_type": "code",
   "execution_count": 2,
   "metadata": {
    "collapsed": true
   },
   "outputs": [],
   "source": [
    "# Función para obtener el sentimiento del comentario haciendo uso de SentiStrength.\n",
    "# Alec Larsen - University of the Witwatersrand, South Africa, 2012.\n",
    "def RateSentiment(sentiString):\n",
    "    # Se abre un subproceso usando shlex para obtener el string de la línea de comando en el formato correcto de lista de\n",
    "    # argumentos.\n",
    "    p = subprocess.Popen(shlex.split(\"java -jar C:/SentiStrength.jar stdin sentidata C:/SentStrength_Data/\"),\n",
    "                         stdin=subprocess.PIPE,stdout=subprocess.PIPE,stderr=subprocess.PIPE)\n",
    "    # Se comunica por stdin el string a ser medido. Todos los espacios son reemplazados con el símbolo +.\n",
    "    stdout_text, stderr_text = p.communicate(sentiString.replace(\" \",\"+\").encode())\n",
    "    # Removemos los espacios entre el rating positivo y negativo. Ejemplo: 1    -5 -> 1-5\n",
    "    stdout_text = stdout_text.decode().rstrip().replace(\"\\t\",\"\")\n",
    "    return stdout_text"
   ]
  },
  {
   "cell_type": "markdown",
   "metadata": {},
   "source": [
    "Ahora, haremos uso de dos strings de ejemplo para obtener sus sentimientos: Uno evidentemente positivo, y otro evidentemente negativo."
   ]
  },
  {
   "cell_type": "code",
   "execution_count": 3,
   "metadata": {
    "collapsed": false
   },
   "outputs": [
    {
     "name": "stdout",
     "output_type": "stream",
     "text": [
      "========== SENTISTRENGTH ==========\n",
      "Resultados del string \"I love you so much, darling.\":\n",
      "Sentimiento positivo: 3\n",
      "Sentimiento negativo: -1\n",
      "Resultados del string \"I really hate you, stupid.\":\n",
      "Sentimiento positivo: 1\n",
      "Sentimiento negativo: -5\n"
     ]
    }
   ],
   "source": [
    "# Te amo tanto, cariño.\n",
    "string_1 = \"I love you so much, darling.\"\n",
    "# Realmente te odio, idiota.\n",
    "string_2 = \"I really hate you, stupid.\"\n",
    "\n",
    "# Obtenemos los sentimientos con la función definida previamente.\n",
    "sentiment_1 = RateSentiment(string_1)\n",
    "sentiment_2 = RateSentiment(string_2)\n",
    "\n",
    "# Ahora, abusaremos del formato (valores de 1 a 5 y -1 a -5) para obtener los valores.\n",
    "positive_1 = int(sentiment_1[0])\n",
    "negative_1 = int(sentiment_1[1:])\n",
    "positive_2 = int(sentiment_2[0])\n",
    "negative_2 = int(sentiment_2[1:])\n",
    "\n",
    "# Mostramos los resultados.\n",
    "print('========== SENTISTRENGTH ==========')\n",
    "print('Resultados del string \"{0}\":\\nSentimiento positivo: {1}\\nSentimiento negativo: {2}'.format(string_1, positive_1,\n",
    "                                                                                                    negative_1))\n",
    "print('Resultados del string \"{0}\":\\nSentimiento positivo: {1}\\nSentimiento negativo: {2}'.format(string_2, positive_2,\n",
    "                                                                                                    negative_2))"
   ]
  },
  {
   "cell_type": "markdown",
   "metadata": {},
   "source": [
    "Podemos ver que el programa nos entrega resultados razonables, basándonos en el texto que pusimos.\n",
    "\n",
    "## Usando TextBlob\n",
    "\n",
    "Ahora, haremos uso de TextBlob en los mismos ejemplos que vimos antes. Hay que notar que el manejo, sin embargo, es un poco diferente."
   ]
  },
  {
   "cell_type": "code",
   "execution_count": 4,
   "metadata": {
    "collapsed": false
   },
   "outputs": [
    {
     "name": "stdout",
     "output_type": "stream",
     "text": [
      "========== TEXTBLOB ==========\n",
      "Resultados del string \"I love you so much, darling.\":\n",
      "Polaridad: 0.35\n",
      "Subjetividad: 0.4\n",
      "Resultados del string \"I really hate you, stupid.\":\n",
      "Polaridad: -0.8\n",
      "Subjetividad: 0.95\n"
     ]
    }
   ],
   "source": [
    "# Creamos dos objetos de clase \"TextBlob\" basados en los ejemplos anteriores.\n",
    "textblob_1 = TextBlob(string_1)\n",
    "textblob_2 = TextBlob(string_2)\n",
    "\n",
    "# Veamos los sentimientos. TextBlob los separa por polaridad (varía entre -1 y 1) y subjetividad (varía entre 0 y 1).\n",
    "print('========== TEXTBLOB ==========')\n",
    "print('Resultados del string \"{0}\":\\nPolaridad: {1}\\nSubjetividad: {2}'.format(string_1,textblob_1.sentiment.polarity,\n",
    "                                                                               textblob_1.sentiment.subjectivity))\n",
    "print('Resultados del string \"{0}\":\\nPolaridad: {1}\\nSubjetividad: {2}'.format(string_2,textblob_2.sentiment.polarity,\n",
    "                                                                               textblob_2.sentiment.subjectivity))"
   ]
  },
  {
   "cell_type": "markdown",
   "metadata": {},
   "source": [
    "Si bien TextBlob se utiliza para obtener sentimiento, tiene muchas más funcionalidades. Un método útil es la traducción de texto (lo que realiza a partir de Google Translate)."
   ]
  },
  {
   "cell_type": "code",
   "execution_count": 5,
   "metadata": {
    "collapsed": false
   },
   "outputs": [
    {
     "name": "stdout",
     "output_type": "stream",
     "text": [
      "I love you so much, darling. ===> En español ===> Te amo tanto querida.\n",
      "I really hate you, stupid. ===> En español ===> Realmente te odio, estúpido.\n",
      "Te amo, eres el mejor. ===> En inglés ===> I love you. You are the best.\n",
      "Eres el peor de todos, te odio. ===> En inglés ===> You're the worst of them all, I hate you.\n",
      "========== TEXTBLOB ==========\n",
      "Resultados del string \"Te amo, eres el mejor.\":\n",
      "Polaridad: 0.75\n",
      "Subjetividad: 0.44999999999999996\n",
      "Resultados del string \"Eres el peor de todos, te odio.\":\n",
      "Polaridad: -0.9\n",
      "Subjetividad: 0.95\n"
     ]
    }
   ],
   "source": [
    "# Traduzcamos los textos, para empezar.\n",
    "print(\"{0} ===> En español ===> {1}\".format(string_1,str(textblob_1.translate(from_lang=\"en\", to=\"es\"))))\n",
    "print(\"{0} ===> En español ===> {1}\".format(string_2,str(textblob_2.translate(from_lang=\"en\", to=\"es\"))))\n",
    "\n",
    "# ¿Podríamos entonces tomar un texto en español y obtener su sentimiento? Veamos.\n",
    "\n",
    "testing_1 = \"Te amo, eres el mejor.\"\n",
    "testing_2 = \"Eres el peor de todos, te odio.\"\n",
    "\n",
    "# Traducimos de forma directa.\n",
    "textblob_test1 = TextBlob(testing_1).translate(from_lang=\"es\", to=\"en\")\n",
    "textblob_test2 = TextBlob(testing_2).translate(from_lang=\"es\", to=\"en\")\n",
    "\n",
    "print(\"{0} ===> En inglés ===> {1}\".format(testing_1,str(textblob_test1)))\n",
    "print(\"{0} ===> En inglés ===> {1}\".format(testing_2,str(textblob_test2)))\n",
    "\n",
    "# Revisemos los valores.\n",
    "print('========== TEXTBLOB ==========')\n",
    "print('Resultados del string \"{0}\":\\nPolaridad: {1}\\nSubjetividad: {2}'.format(testing_1,textblob_test1.sentiment.polarity,\n",
    "                                                                               textblob_test1.sentiment.subjectivity))\n",
    "print('Resultados del string \"{0}\":\\nPolaridad: {1}\\nSubjetividad: {2}'.format(testing_2,textblob_test2.sentiment.polarity,\n",
    "                                                                               textblob_test2.sentiment.subjectivity))"
   ]
  },
  {
   "cell_type": "markdown",
   "metadata": {
    "collapsed": true
   },
   "source": [
    "¡TextBlob posee muchas otras funcionalidades! Puedes verlas aquí: http://textblob.readthedocs.io/en/dev/quickstart.html"
   ]
  }
 ],
 "metadata": {
  "kernelspec": {
   "display_name": "Python 3",
   "language": "python",
   "name": "python3"
  },
  "language_info": {
   "codemirror_mode": {
    "name": "ipython",
    "version": 3
   },
   "file_extension": ".py",
   "mimetype": "text/x-python",
   "name": "python",
   "nbconvert_exporter": "python",
   "pygments_lexer": "ipython3",
   "version": "3.4.3"
  }
 },
 "nbformat": 4,
 "nbformat_minor": 0
}
