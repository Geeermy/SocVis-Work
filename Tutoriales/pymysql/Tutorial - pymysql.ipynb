{
 "cells": [
  {
   "cell_type": "markdown",
   "metadata": {
    "slideshow": {
     "slide_type": "-"
    }
   },
   "source": [
    "# Tutorial - Librería pymysql"
   ]
  },
  {
   "cell_type": "markdown",
   "metadata": {},
   "source": [
    "En este tutorial, aprenderemos lo básico sobre la librería pymysql. Para ello, es necesario conocer lo básico de **Python** y de los comandos disponibles en **MySQL**.\n",
    "\n",
    "**Importante:** La mayoría de estos ejemplos se hicieron con una base de datos existentes, llamada \"sl_marketplace\". Se recomienda reemplazarla por una que exista en sus computadores, e ir creando tablas con los comandos vistos en la parte final del tutorial para poder entender a fondo todas las funcionalidades expuestas en este documento.\n",
    "\n",
    "En primer lugar, importamos la librería (que debe ser instalada previamente)."
   ]
  },
  {
   "cell_type": "code",
   "execution_count": 1,
   "metadata": {
    "collapsed": true
   },
   "outputs": [],
   "source": [
    "import pymysql # Librería para trabajar desde Python con bases de datos MySQL"
   ]
  },
  {
   "cell_type": "markdown",
   "metadata": {},
   "source": [
    "Ahora, nos conectamos con nuestra base de datos. En este caso, asumimos que se tiene una base de datos **local**. Todos los valores, en este caso, son estándar, salvo por \"db\", que corresponde al nombre de la base de datos utilizada para la realización de este tutorial. Notar que passwd=\"\" ya que en nuestra configuración no tenemos introducida una contraseña."
   ]
  },
  {
   "cell_type": "code",
   "execution_count": 2,
   "metadata": {
    "collapsed": true
   },
   "outputs": [],
   "source": [
    "connection = pymysql.connect(host=\"localhost\", port=3306, user=\"root\", passwd=\"\", db=\"sl_marketplace\")"
   ]
  },
  {
   "cell_type": "markdown",
   "metadata": {},
   "source": [
    "Ahora, creamos el **cursor**. Este corresponde al iterador de las tablas. A través de él, conseguimos las filas de las tablas que consultamos."
   ]
  },
  {
   "cell_type": "code",
   "execution_count": 3,
   "metadata": {
    "collapsed": true
   },
   "outputs": [],
   "source": [
    "cursor = connection.cursor()"
   ]
  },
  {
   "cell_type": "markdown",
   "metadata": {},
   "source": [
    "Ahora, hacemos el uso del método **execute**. Este es el que nos permitirá ejecutar nuestras consultas. Haremos uso de una tabla existente en la base de datos de prueba, llamada \"stores\" para ejemplificar el comando."
   ]
  },
  {
   "cell_type": "code",
   "execution_count": 4,
   "metadata": {
    "collapsed": false,
    "scrolled": false
   },
   "outputs": [
    {
     "data": {
      "text/plain": [
       "5"
      ]
     },
     "execution_count": 4,
     "metadata": {},
     "output_type": "execute_result"
    }
   ],
   "source": [
    "cursor.execute(\"SELECT * FROM stores LIMIT 5;\")"
   ]
  },
  {
   "cell_type": "markdown",
   "metadata": {},
   "source": [
    "También se puede pasar la consulta a través de una variable. En este caso, la variable \"query\"."
   ]
  },
  {
   "cell_type": "code",
   "execution_count": 5,
   "metadata": {
    "collapsed": false
   },
   "outputs": [
    {
     "data": {
      "text/plain": [
       "5"
      ]
     },
     "execution_count": 5,
     "metadata": {},
     "output_type": "execute_result"
    }
   ],
   "source": [
    "query = \"SELECT * FROM stores LIMIT 5;\"\n",
    "cursor.execute(query)"
   ]
  },
  {
   "cell_type": "markdown",
   "metadata": {},
   "source": [
    "Para revisar las filas de la consulta, hacemos uso del método **fetchall**. Este nos retorna la lista de todas las filas. Notar que, en este caso, las filas corresponden a una tupla, por lo que **no se pueden editar**."
   ]
  },
  {
   "cell_type": "code",
   "execution_count": 6,
   "metadata": {
    "collapsed": false
   },
   "outputs": [
    {
     "name": "stdout",
     "output_type": "stream",
     "text": [
      "(1, 'Urbanista', 'Superior/65/109/59', 'alissa.phaeton', 42, 'November 02, 2003')\n",
      "(2, 'House of RFyre LLC', 'Isle%20RFyre/97/119/23', 'raven.pennyfeather', 473, 'September 10, 2004')\n",
      "(3, 'sachi Vixen', 'Genesis/100/116/43', 'sachi.vixen', 159, 'May 29, 2005')\n",
      "(4, \"Nyte'N'Day\", '', 'nyte.caligari', 831, 'May 06, 2005')\n",
      "(5, 'Amplify Your Awesome Shop', 'Here/43/52/26', 'torley.linden', 1, 'September 15, 2004')\n"
     ]
    }
   ],
   "source": [
    "for row in cursor.fetchall():\n",
    "    print(row)"
   ]
  },
  {
   "cell_type": "markdown",
   "metadata": {},
   "source": [
    "También podemos iterar haciendo uso de **fetchone**, que básicamente retorna la primera fila de la consulta, y pasa a la siguiente."
   ]
  },
  {
   "cell_type": "code",
   "execution_count": 7,
   "metadata": {
    "collapsed": false
   },
   "outputs": [
    {
     "name": "stdout",
     "output_type": "stream",
     "text": [
      "(1, 'Urbanista', 'Superior/65/109/59', 'alissa.phaeton', 42, 'November 02, 2003')\n",
      "(2, 'House of RFyre LLC', 'Isle%20RFyre/97/119/23', 'raven.pennyfeather', 473, 'September 10, 2004')\n",
      "(3, 'sachi Vixen', 'Genesis/100/116/43', 'sachi.vixen', 159, 'May 29, 2005')\n",
      "(4, \"Nyte'N'Day\", '', 'nyte.caligari', 831, 'May 06, 2005')\n",
      "(5, 'Amplify Your Awesome Shop', 'Here/43/52/26', 'torley.linden', 1, 'September 15, 2004')\n"
     ]
    }
   ],
   "source": [
    "cursor.execute(query) # Ejecutamos la consulta de nuevo.\n",
    "row = cursor.fetchone()\n",
    "while row:\n",
    "    print(row)\n",
    "    row = cursor.fetchone()"
   ]
  },
  {
   "cell_type": "markdown",
   "metadata": {},
   "source": [
    "Por otra parte, está el comando **fetchmany**, que retorna solo la cantidad de filas que deseamos."
   ]
  },
  {
   "cell_type": "code",
   "execution_count": 8,
   "metadata": {
    "collapsed": false
   },
   "outputs": [
    {
     "name": "stdout",
     "output_type": "stream",
     "text": [
      "(1, 'Urbanista', 'Superior/65/109/59', 'alissa.phaeton', 42, 'November 02, 2003')\n",
      "(2, 'House of RFyre LLC', 'Isle%20RFyre/97/119/23', 'raven.pennyfeather', 473, 'September 10, 2004')\n",
      "(3, 'sachi Vixen', 'Genesis/100/116/43', 'sachi.vixen', 159, 'May 29, 2005')\n"
     ]
    }
   ],
   "source": [
    "cursor.execute(query) # Ejecutamos la consulta de nuevo.\n",
    "for row in cursor.fetchmany(size = 3):\n",
    "    print(row)"
   ]
  },
  {
   "cell_type": "markdown",
   "metadata": {},
   "source": [
    "Variando la consulta, el tamaño de nuestra fila varía, naturalmente."
   ]
  },
  {
   "cell_type": "code",
   "execution_count": 9,
   "metadata": {
    "collapsed": false
   },
   "outputs": [
    {
     "name": "stdout",
     "output_type": "stream",
     "text": [
      "(1,)\n",
      "(2,)\n",
      "(3,)\n",
      "(4,)\n",
      "(5,)\n"
     ]
    }
   ],
   "source": [
    "cursor.execute(\"SELECT store_id FROM stores LIMIT 5;\") # Seleccionamos solo una columna.\n",
    "for row in cursor.fetchall():\n",
    "    print(row)"
   ]
  },
  {
   "cell_type": "markdown",
   "metadata": {},
   "source": [
    "También podemos seleccionar valores directamente desde los índices de la tupla resultante."
   ]
  },
  {
   "cell_type": "code",
   "execution_count": 10,
   "metadata": {
    "collapsed": false
   },
   "outputs": [
    {
     "name": "stdout",
     "output_type": "stream",
     "text": [
      "42\n",
      "473\n",
      "159\n",
      "831\n",
      "1\n"
     ]
    }
   ],
   "source": [
    "cursor.execute(\"SELECT store_id, number_of_items FROM stores LIMIT 5;\") # Dos columnas.\n",
    "for row in cursor.fetchall():\n",
    "    print(row[1]) # Nos quedamos con la segunda."
   ]
  },
  {
   "cell_type": "markdown",
   "metadata": {},
   "source": [
    "Otro beneficio, es que con pymysql también podemos **crear** y **modificar** tablas. A continuación, un ejemplo práctico."
   ]
  },
  {
   "cell_type": "code",
   "execution_count": 11,
   "metadata": {
    "collapsed": false
   },
   "outputs": [
    {
     "data": {
      "text/plain": [
       "1"
      ]
     },
     "execution_count": 11,
     "metadata": {},
     "output_type": "execute_result"
    }
   ],
   "source": [
    "# Tabla de dos columnas: val1 (numérico) y val2 (caracteres).\n",
    "# Notar que CHARSET hará que no tengamos problemas con letras del español (como la ñ).\n",
    "cursor.execute(\"CREATE TABLE testing (val1 int, val2 varchar(128)) ENGINE=InnoDB DEFAULT CHARSET=latin1;\")\n",
    "# Pasamos los valores en forma de tuplas.\n",
    "values1 = (1,\"Hola, \")\n",
    "values2 = (2,\"mundo!\")\n",
    "cursor.execute(\"INSERT INTO testing VALUES (%s,%s);\",values1)\n",
    "cursor.execute(\"INSERT INTO testing VALUES (%s,%s);\",values2)"
   ]
  },
  {
   "cell_type": "markdown",
   "metadata": {},
   "source": [
    "Para que las modificaciones sean visualizables en la base de datos, es necesario que **guardemos** los cambios realizados. Por eso, a través de la variable \"connection\" creada en un comienzo, ejecutamos el commando **commit**."
   ]
  },
  {
   "cell_type": "code",
   "execution_count": 12,
   "metadata": {
    "collapsed": true
   },
   "outputs": [],
   "source": [
    "connection.commit()"
   ]
  },
  {
   "cell_type": "markdown",
   "metadata": {},
   "source": [
    "Verificamos que todo se haya creado como lo esperábamos, a través de consultas, y un ejemplo práctico que muestra la utilidad que otorga Python para trabajar con bases de datos."
   ]
  },
  {
   "cell_type": "code",
   "execution_count": 13,
   "metadata": {
    "collapsed": false
   },
   "outputs": [
    {
     "name": "stdout",
     "output_type": "stream",
     "text": [
      "Hola, mundo!\n"
     ]
    }
   ],
   "source": [
    "cursor.execute(\"SELECT * FROM testing;\")\n",
    "result = \"\"\n",
    "for row in cursor.fetchall():\n",
    "    result += row[1]\n",
    "print(result)"
   ]
  },
  {
   "cell_type": "markdown",
   "metadata": {},
   "source": [
    "Ahora, modificaremos las tuplas y revisaremos el resultado."
   ]
  },
  {
   "cell_type": "code",
   "execution_count": 14,
   "metadata": {
    "collapsed": false
   },
   "outputs": [
    {
     "name": "stdout",
     "output_type": "stream",
     "text": [
      "Hello, world!\n"
     ]
    }
   ],
   "source": [
    "# Otra forma de insertar valores en strings (ojo con el detalle de las comillas simples para introducir el valor de los\n",
    "# caracteres).\n",
    "cursor.execute(\"UPDATE testing SET val2 = '{}' WHERE val1 = 1;\".format(\"Hello, \"))\n",
    "cursor.execute(\"UPDATE testing SET val2 = '{}' WHERE val1 = 2;\".format(\"world!\"))\n",
    "connection.commit() # Guardamos los cambios.\n",
    "# Vemos el resultado.\n",
    "cursor.execute(\"SELECT * FROM testing;\")\n",
    "result = \"\"\n",
    "for row in cursor.fetchall():\n",
    "    result += row[1]\n",
    "print(result)"
   ]
  },
  {
   "cell_type": "markdown",
   "metadata": {},
   "source": [
    "Finalizaremos este tutorial con la eliminación de la tabla creada recientemente."
   ]
  },
  {
   "cell_type": "code",
   "execution_count": 15,
   "metadata": {
    "collapsed": false
   },
   "outputs": [
    {
     "name": "stdout",
     "output_type": "stream",
     "text": [
      "¡Tabla eliminada correctamente!\n"
     ]
    }
   ],
   "source": [
    "cursor.execute(\"DROP TABLE testing;\")\n",
    "connection.commit()\n",
    "\n",
    "# Revisamos que, efectivamente, se eliminó.\n",
    "try:\n",
    "    cursor.execute(\"SELECT * FROM testing;\")\n",
    "except:\n",
    "    # Error - la tabla ya no existe.\n",
    "    print(\"¡Tabla eliminada correctamente!\")"
   ]
  }
 ],
 "metadata": {
  "kernelspec": {
   "display_name": "Python 3",
   "language": "python",
   "name": "python3"
  },
  "language_info": {
   "codemirror_mode": {
    "name": "ipython",
    "version": 3
   },
   "file_extension": ".py",
   "mimetype": "text/x-python",
   "name": "python",
   "nbconvert_exporter": "python",
   "pygments_lexer": "ipython3",
   "version": "3.4.3"
  }
 },
 "nbformat": 4,
 "nbformat_minor": 0
}
